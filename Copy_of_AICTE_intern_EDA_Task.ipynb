{
  "cells": [
    {
      "cell_type": "markdown",
      "metadata": {
        "id": "view-in-github",
        "colab_type": "text"
      },
      "source": [
        "<a href=\"https://colab.research.google.com/github/Yaswanth-2615/ALIET-CODE/blob/main/Copy_of_AICTE_intern_EDA_Task.ipynb\" target=\"_parent\"><img src=\"https://colab.research.google.com/assets/colab-badge.svg\" alt=\"Open In Colab\"/></a>"
      ]
    },
    {
      "cell_type": "markdown",
      "source": [
        "**Exploratory Data Analysis on Covid Data**"
      ],
      "metadata": {
        "id": "HcIBQt6DwvcP"
      }
    },
    {
      "cell_type": "markdown",
      "metadata": {
        "id": "4N_eMgarSG1t"
      },
      "source": [
        "1.Importing data using pandas"
      ]
    },
    {
      "cell_type": "code",
      "execution_count": null,
      "metadata": {
        "id": "rZfHwbkVRgHo"
      },
      "outputs": [],
      "source": [
        "import pandas as pd\n",
        "data = pd.read_csv(\"/content/covid-data.csv\")"
      ]
    },
    {
      "cell_type": "markdown",
      "metadata": {
        "id": "Sm8DnPWMSQqd"
      },
      "source": [
        "2.High level data understanding"
      ]
    },
    {
      "cell_type": "markdown",
      "metadata": {
        "id": "mRPBg_9tSkoA"
      },
      "source": [
        "a.Number of rows and columns"
      ]
    },
    {
      "cell_type": "code",
      "execution_count": null,
      "metadata": {
        "colab": {
          "base_uri": "https://localhost:8080/"
        },
        "id": "O67jQNeNSVZl",
        "outputId": "8f78b836-b735-4990-c85a-6ba3ecd9588b"
      },
      "outputs": [
        {
          "name": "stdout",
          "output_type": "stream",
          "text": [
            "(20283, 49)\n"
          ]
        }
      ],
      "source": [
        "print(data.shape)"
      ]
    },
    {
      "cell_type": "markdown",
      "metadata": {
        "id": "o-Smi84zSoCE"
      },
      "source": [
        "b.Datatypes,Information,Describe"
      ]
    },
    {
      "cell_type": "code",
      "execution_count": null,
      "metadata": {
        "colab": {
          "base_uri": "https://localhost:8080/"
        },
        "id": "8zybKKpcTJ68",
        "outputId": "4ec44af8-9095-4a9b-a001-0b6ab89bf27a"
      },
      "outputs": [
        {
          "name": "stdout",
          "output_type": "stream",
          "text": [
            "iso_code                               object\n",
            "continent                              object\n",
            "location                               object\n",
            "date                                   object\n",
            "total_cases                           float64\n",
            "new_cases                             float64\n",
            "new_cases_smoothed                    float64\n",
            "total_deaths                          float64\n",
            "new_deaths                            float64\n",
            "new_deaths_smoothed                   float64\n",
            "total_cases_per_million               float64\n",
            "new_cases_per_million                 float64\n",
            "new_cases_smoothed_per_million        float64\n",
            "total_deaths_per_million              float64\n",
            "new_deaths_per_million                float64\n",
            "new_deaths_smoothed_per_million       float64\n",
            "reproduction_rate                     float64\n",
            "icu_patients                          float64\n",
            "icu_patients_per_million              float64\n",
            "hosp_patients                         float64\n",
            "hosp_patients_per_million             float64\n",
            "weekly_icu_admissions                 float64\n",
            "weekly_icu_admissions_per_million     float64\n",
            "weekly_hosp_admissions                float64\n",
            "weekly_hosp_admissions_per_million    float64\n",
            "total_tests                           float64\n",
            "new_tests                             float64\n",
            "total_tests_per_thousand              float64\n",
            "new_tests_per_thousand                float64\n",
            "new_tests_smoothed                    float64\n",
            "new_tests_smoothed_per_thousand       float64\n",
            "tests_per_case                        float64\n",
            "positive_rate                         float64\n",
            "stringency_index                      float64\n",
            "population                              int64\n",
            "population_density                    float64\n",
            "median_age                            float64\n",
            "aged_65_older                         float64\n",
            "aged_70_older                         float64\n",
            "gdp_per_capita                        float64\n",
            "extreme_poverty                       float64\n",
            "cardiovasc_death_rate                 float64\n",
            "diabetes_prevalence                   float64\n",
            "female_smokers                        float64\n",
            "male_smokers                          float64\n",
            "handwashing_facilities                float64\n",
            "hospital_beds_per_thousand            float64\n",
            "life_expectancy                       float64\n",
            "human_development_index               float64\n",
            "dtype: object\n"
          ]
        }
      ],
      "source": [
        "print(data.dtypes)"
      ]
    },
    {
      "cell_type": "code",
      "execution_count": null,
      "metadata": {
        "colab": {
          "base_uri": "https://localhost:8080/"
        },
        "id": "oPNYSwHbS5-Z",
        "outputId": "a3df5c3d-33fe-4f87-8a17-0da6cb3b440d"
      },
      "outputs": [
        {
          "name": "stdout",
          "output_type": "stream",
          "text": [
            "<bound method DataFrame.info of       iso_code continent     location        date  total_cases  new_cases  \\\n",
            "0          AFG      Asia  Afghanistan  31-12-2019          NaN        0.0   \n",
            "1          AFG      Asia  Afghanistan  01-01-2020          NaN        0.0   \n",
            "2          AFG      Asia  Afghanistan  02-01-2020          NaN        0.0   \n",
            "3          AFG      Asia  Afghanistan  03-01-2020          NaN        0.0   \n",
            "4          AFG      Asia  Afghanistan  04-01-2020          NaN        0.0   \n",
            "...        ...       ...          ...         ...          ...        ...   \n",
            "20278      GHA    Africa        Ghana  11-10-2020      47005.0       18.0   \n",
            "20279      GHA    Africa        Ghana  12-10-2020      47005.0        0.0   \n",
            "20280      GHA    Africa        Ghana  13-10-2020      47030.0       25.0   \n",
            "20281      GHA    Africa        Ghana  14-10-2020      47126.0       96.0   \n",
            "20282      GHA    Africa        Ghana  15-10-2020      47126.0        0.0   \n",
            "\n",
            "       new_cases_smoothed  total_deaths  new_deaths  new_deaths_smoothed  ...  \\\n",
            "0                     NaN           NaN         0.0                  NaN  ...   \n",
            "1                     NaN           NaN         0.0                  NaN  ...   \n",
            "2                     NaN           NaN         0.0                  NaN  ...   \n",
            "3                     NaN           NaN         0.0                  NaN  ...   \n",
            "4                     NaN           NaN         0.0                  NaN  ...   \n",
            "...                   ...           ...         ...                  ...  ...   \n",
            "20278              28.857         306.0         0.0                0.429  ...   \n",
            "20279              25.143         306.0         0.0                0.429  ...   \n",
            "20280              28.714         308.0         2.0                0.714  ...   \n",
            "20281              42.429         310.0         2.0                1.000  ...   \n",
            "20282              42.429         310.0         0.0                1.000  ...   \n",
            "\n",
            "       gdp_per_capita  extreme_poverty  cardiovasc_death_rate  \\\n",
            "0            1803.987              NaN                597.029   \n",
            "1            1803.987              NaN                597.029   \n",
            "2            1803.987              NaN                597.029   \n",
            "3            1803.987              NaN                597.029   \n",
            "4            1803.987              NaN                597.029   \n",
            "...               ...              ...                    ...   \n",
            "20278        4227.630             12.0                298.245   \n",
            "20279        4227.630             12.0                298.245   \n",
            "20280        4227.630             12.0                298.245   \n",
            "20281        4227.630             12.0                298.245   \n",
            "20282        4227.630             12.0                    NaN   \n",
            "\n",
            "       diabetes_prevalence  female_smokers  male_smokers  \\\n",
            "0                     9.59             NaN           NaN   \n",
            "1                     9.59             NaN           NaN   \n",
            "2                     9.59             NaN           NaN   \n",
            "3                     9.59             NaN           NaN   \n",
            "4                     9.59             NaN           NaN   \n",
            "...                    ...             ...           ...   \n",
            "20278                 4.97             0.3           7.7   \n",
            "20279                 4.97             0.3           7.7   \n",
            "20280                 4.97             0.3           7.7   \n",
            "20281                 4.97             0.3           7.7   \n",
            "20282                  NaN             NaN           NaN   \n",
            "\n",
            "       handwashing_facilities  hospital_beds_per_thousand  life_expectancy  \\\n",
            "0                      37.746                         0.5            64.83   \n",
            "1                      37.746                         0.5            64.83   \n",
            "2                      37.746                         0.5            64.83   \n",
            "3                      37.746                         0.5            64.83   \n",
            "4                      37.746                         0.5            64.83   \n",
            "...                       ...                         ...              ...   \n",
            "20278                  41.047                         0.9            64.07   \n",
            "20279                  41.047                         0.9            64.07   \n",
            "20280                  41.047                         0.9            64.07   \n",
            "20281                  41.047                         0.9            64.07   \n",
            "20282                     NaN                         NaN              NaN   \n",
            "\n",
            "       human_development_index  \n",
            "0                        0.498  \n",
            "1                        0.498  \n",
            "2                        0.498  \n",
            "3                        0.498  \n",
            "4                        0.498  \n",
            "...                        ...  \n",
            "20278                    0.592  \n",
            "20279                    0.592  \n",
            "20280                    0.592  \n",
            "20281                    0.592  \n",
            "20282                      NaN  \n",
            "\n",
            "[20283 rows x 49 columns]>\n"
          ]
        }
      ],
      "source": [
        "print(data.info)"
      ]
    },
    {
      "cell_type": "code",
      "execution_count": null,
      "metadata": {
        "colab": {
          "base_uri": "https://localhost:8080/"
        },
        "id": "ELrRO5CNSnQf",
        "outputId": "e7e2f2e7-96fc-470b-b675-0024203dc4e1"
      },
      "outputs": [
        {
          "name": "stdout",
          "output_type": "stream",
          "text": [
            "<bound method NDFrame.describe of       iso_code continent     location        date  total_cases  new_cases  \\\n",
            "0          AFG      Asia  Afghanistan  31-12-2019          NaN        0.0   \n",
            "1          AFG      Asia  Afghanistan  01-01-2020          NaN        0.0   \n",
            "2          AFG      Asia  Afghanistan  02-01-2020          NaN        0.0   \n",
            "3          AFG      Asia  Afghanistan  03-01-2020          NaN        0.0   \n",
            "4          AFG      Asia  Afghanistan  04-01-2020          NaN        0.0   \n",
            "...        ...       ...          ...         ...          ...        ...   \n",
            "20278      GHA    Africa        Ghana  11-10-2020      47005.0       18.0   \n",
            "20279      GHA    Africa        Ghana  12-10-2020      47005.0        0.0   \n",
            "20280      GHA    Africa        Ghana  13-10-2020      47030.0       25.0   \n",
            "20281      GHA    Africa        Ghana  14-10-2020      47126.0       96.0   \n",
            "20282      GHA    Africa        Ghana  15-10-2020      47126.0        0.0   \n",
            "\n",
            "       new_cases_smoothed  total_deaths  new_deaths  new_deaths_smoothed  ...  \\\n",
            "0                     NaN           NaN         0.0                  NaN  ...   \n",
            "1                     NaN           NaN         0.0                  NaN  ...   \n",
            "2                     NaN           NaN         0.0                  NaN  ...   \n",
            "3                     NaN           NaN         0.0                  NaN  ...   \n",
            "4                     NaN           NaN         0.0                  NaN  ...   \n",
            "...                   ...           ...         ...                  ...  ...   \n",
            "20278              28.857         306.0         0.0                0.429  ...   \n",
            "20279              25.143         306.0         0.0                0.429  ...   \n",
            "20280              28.714         308.0         2.0                0.714  ...   \n",
            "20281              42.429         310.0         2.0                1.000  ...   \n",
            "20282              42.429         310.0         0.0                1.000  ...   \n",
            "\n",
            "       gdp_per_capita  extreme_poverty  cardiovasc_death_rate  \\\n",
            "0            1803.987              NaN                597.029   \n",
            "1            1803.987              NaN                597.029   \n",
            "2            1803.987              NaN                597.029   \n",
            "3            1803.987              NaN                597.029   \n",
            "4            1803.987              NaN                597.029   \n",
            "...               ...              ...                    ...   \n",
            "20278        4227.630             12.0                298.245   \n",
            "20279        4227.630             12.0                298.245   \n",
            "20280        4227.630             12.0                298.245   \n",
            "20281        4227.630             12.0                298.245   \n",
            "20282        4227.630             12.0                    NaN   \n",
            "\n",
            "       diabetes_prevalence  female_smokers  male_smokers  \\\n",
            "0                     9.59             NaN           NaN   \n",
            "1                     9.59             NaN           NaN   \n",
            "2                     9.59             NaN           NaN   \n",
            "3                     9.59             NaN           NaN   \n",
            "4                     9.59             NaN           NaN   \n",
            "...                    ...             ...           ...   \n",
            "20278                 4.97             0.3           7.7   \n",
            "20279                 4.97             0.3           7.7   \n",
            "20280                 4.97             0.3           7.7   \n",
            "20281                 4.97             0.3           7.7   \n",
            "20282                  NaN             NaN           NaN   \n",
            "\n",
            "       handwashing_facilities  hospital_beds_per_thousand  life_expectancy  \\\n",
            "0                      37.746                         0.5            64.83   \n",
            "1                      37.746                         0.5            64.83   \n",
            "2                      37.746                         0.5            64.83   \n",
            "3                      37.746                         0.5            64.83   \n",
            "4                      37.746                         0.5            64.83   \n",
            "...                       ...                         ...              ...   \n",
            "20278                  41.047                         0.9            64.07   \n",
            "20279                  41.047                         0.9            64.07   \n",
            "20280                  41.047                         0.9            64.07   \n",
            "20281                  41.047                         0.9            64.07   \n",
            "20282                     NaN                         NaN              NaN   \n",
            "\n",
            "       human_development_index  \n",
            "0                        0.498  \n",
            "1                        0.498  \n",
            "2                        0.498  \n",
            "3                        0.498  \n",
            "4                        0.498  \n",
            "...                        ...  \n",
            "20278                    0.592  \n",
            "20279                    0.592  \n",
            "20280                    0.592  \n",
            "20281                    0.592  \n",
            "20282                      NaN  \n",
            "\n",
            "[20283 rows x 49 columns]>\n"
          ]
        }
      ],
      "source": [
        "print(data.describe)"
      ]
    },
    {
      "cell_type": "markdown",
      "metadata": {
        "id": "iwAwtge3TYKw"
      },
      "source": [
        "3.Low level data understandng"
      ]
    },
    {
      "cell_type": "markdown",
      "metadata": {
        "id": "drtaD_IfUVlb"
      },
      "source": [
        "a.Count unique values in each columns"
      ]
    },
    {
      "cell_type": "code",
      "execution_count": null,
      "metadata": {
        "colab": {
          "base_uri": "https://localhost:8080/"
        },
        "id": "qxOZV0XUTbk2",
        "outputId": "d998e81e-467f-4c88-d2c2-9c5a8ae73e5c"
      },
      "outputs": [
        {
          "name": "stdout",
          "output_type": "stream",
          "text": [
            "<bound method IndexOpsMixin.nunique of 0        0.0\n",
            "1        0.0\n",
            "2        0.0\n",
            "3        0.0\n",
            "4        0.0\n",
            "        ... \n",
            "20278    0.0\n",
            "20279    0.0\n",
            "20280    2.0\n",
            "20281    2.0\n",
            "20282    0.0\n",
            "Name: new_deaths, Length: 20283, dtype: float64>\n"
          ]
        }
      ],
      "source": [
        "print(data['new_deaths'].nunique)"
      ]
    },
    {
      "cell_type": "code",
      "execution_count": null,
      "metadata": {
        "colab": {
          "base_uri": "https://localhost:8080/"
        },
        "id": "5FPlZH10UFTT",
        "outputId": "7f9900f9-748e-46e5-ad4f-35276ed6605d"
      },
      "outputs": [
        {
          "name": "stdout",
          "output_type": "stream",
          "text": [
            "<bound method DataFrame.nunique of       iso_code continent     location        date  total_cases  new_cases  \\\n",
            "0          AFG      Asia  Afghanistan  31-12-2019          NaN        0.0   \n",
            "1          AFG      Asia  Afghanistan  01-01-2020          NaN        0.0   \n",
            "2          AFG      Asia  Afghanistan  02-01-2020          NaN        0.0   \n",
            "3          AFG      Asia  Afghanistan  03-01-2020          NaN        0.0   \n",
            "4          AFG      Asia  Afghanistan  04-01-2020          NaN        0.0   \n",
            "...        ...       ...          ...         ...          ...        ...   \n",
            "20278      GHA    Africa        Ghana  11-10-2020      47005.0       18.0   \n",
            "20279      GHA    Africa        Ghana  12-10-2020      47005.0        0.0   \n",
            "20280      GHA    Africa        Ghana  13-10-2020      47030.0       25.0   \n",
            "20281      GHA    Africa        Ghana  14-10-2020      47126.0       96.0   \n",
            "20282      GHA    Africa        Ghana  15-10-2020      47126.0        0.0   \n",
            "\n",
            "       new_cases_smoothed  total_deaths  new_deaths  new_deaths_smoothed  ...  \\\n",
            "0                     NaN           NaN         0.0                  NaN  ...   \n",
            "1                     NaN           NaN         0.0                  NaN  ...   \n",
            "2                     NaN           NaN         0.0                  NaN  ...   \n",
            "3                     NaN           NaN         0.0                  NaN  ...   \n",
            "4                     NaN           NaN         0.0                  NaN  ...   \n",
            "...                   ...           ...         ...                  ...  ...   \n",
            "20278              28.857         306.0         0.0                0.429  ...   \n",
            "20279              25.143         306.0         0.0                0.429  ...   \n",
            "20280              28.714         308.0         2.0                0.714  ...   \n",
            "20281              42.429         310.0         2.0                1.000  ...   \n",
            "20282              42.429         310.0         0.0                1.000  ...   \n",
            "\n",
            "       gdp_per_capita  extreme_poverty  cardiovasc_death_rate  \\\n",
            "0            1803.987              NaN                597.029   \n",
            "1            1803.987              NaN                597.029   \n",
            "2            1803.987              NaN                597.029   \n",
            "3            1803.987              NaN                597.029   \n",
            "4            1803.987              NaN                597.029   \n",
            "...               ...              ...                    ...   \n",
            "20278        4227.630             12.0                298.245   \n",
            "20279        4227.630             12.0                298.245   \n",
            "20280        4227.630             12.0                298.245   \n",
            "20281        4227.630             12.0                298.245   \n",
            "20282        4227.630             12.0                    NaN   \n",
            "\n",
            "       diabetes_prevalence  female_smokers  male_smokers  \\\n",
            "0                     9.59             NaN           NaN   \n",
            "1                     9.59             NaN           NaN   \n",
            "2                     9.59             NaN           NaN   \n",
            "3                     9.59             NaN           NaN   \n",
            "4                     9.59             NaN           NaN   \n",
            "...                    ...             ...           ...   \n",
            "20278                 4.97             0.3           7.7   \n",
            "20279                 4.97             0.3           7.7   \n",
            "20280                 4.97             0.3           7.7   \n",
            "20281                 4.97             0.3           7.7   \n",
            "20282                  NaN             NaN           NaN   \n",
            "\n",
            "       handwashing_facilities  hospital_beds_per_thousand  life_expectancy  \\\n",
            "0                      37.746                         0.5            64.83   \n",
            "1                      37.746                         0.5            64.83   \n",
            "2                      37.746                         0.5            64.83   \n",
            "3                      37.746                         0.5            64.83   \n",
            "4                      37.746                         0.5            64.83   \n",
            "...                       ...                         ...              ...   \n",
            "20278                  41.047                         0.9            64.07   \n",
            "20279                  41.047                         0.9            64.07   \n",
            "20280                  41.047                         0.9            64.07   \n",
            "20281                  41.047                         0.9            64.07   \n",
            "20282                     NaN                         NaN              NaN   \n",
            "\n",
            "       human_development_index  \n",
            "0                        0.498  \n",
            "1                        0.498  \n",
            "2                        0.498  \n",
            "3                        0.498  \n",
            "4                        0.498  \n",
            "...                        ...  \n",
            "20278                    0.592  \n",
            "20279                    0.592  \n",
            "20280                    0.592  \n",
            "20281                    0.592  \n",
            "20282                      NaN  \n",
            "\n",
            "[20283 rows x 49 columns]>\n"
          ]
        }
      ],
      "source": [
        "print(data.nunique)"
      ]
    },
    {
      "cell_type": "markdown",
      "metadata": {
        "id": "hIBW5OkhUIat"
      },
      "source": [
        "b.Find which continent have maximum frequency of values."
      ]
    },
    {
      "cell_type": "code",
      "execution_count": null,
      "metadata": {
        "colab": {
          "base_uri": "https://localhost:8080/"
        },
        "id": "alyYnUyOUkLF",
        "outputId": "a211d849-9859-4fec-bf4d-6e6559e1ebb6"
      },
      "outputs": [
        {
          "name": "stdout",
          "output_type": "stream",
          "text": [
            "Africa 5468\n"
          ]
        }
      ],
      "source": [
        "Maximum_Frequency=data['continent'].value_counts()\n",
        "Maximum_Frequency_continent=Maximum_Frequency.idxmax()\n",
        "print(Maximum_Frequency_continent,Maximum_Frequency.max())"
      ]
    },
    {
      "cell_type": "markdown",
      "metadata": {
        "id": "Y5xYjLynWXZq"
      },
      "source": [
        "c.max & mean value in total_cases"
      ]
    },
    {
      "cell_type": "code",
      "execution_count": null,
      "metadata": {
        "colab": {
          "base_uri": "https://localhost:8080/"
        },
        "id": "tsryZD80WeBB",
        "outputId": "4c9c9051-7a73-4f5d-d078-92132594b91a"
      },
      "outputs": [
        {
          "name": "stdout",
          "output_type": "stream",
          "text": [
            "Maximum Value <bound method Series.max of 0            NaN\n",
            "1            NaN\n",
            "2            NaN\n",
            "3            NaN\n",
            "4            NaN\n",
            "          ...   \n",
            "20278    47005.0\n",
            "20279    47005.0\n",
            "20280    47030.0\n",
            "20281    47126.0\n",
            "20282    47126.0\n",
            "Name: total_cases, Length: 20283, dtype: float64>\n",
            "Mean <bound method Series.mean of 0            NaN\n",
            "1            NaN\n",
            "2            NaN\n",
            "3            NaN\n",
            "4            NaN\n",
            "          ...   \n",
            "20278    47005.0\n",
            "20279    47005.0\n",
            "20280    47030.0\n",
            "20281    47126.0\n",
            "20282    47126.0\n",
            "Name: total_cases, Length: 20283, dtype: float64>\n"
          ]
        }
      ],
      "source": [
        "print(\"Maximum Value\",data['total_cases'].max)\n",
        "print(\"Mean\",data['total_cases'].mean)"
      ]
    },
    {
      "cell_type": "markdown",
      "metadata": {
        "id": "tG7CCzyEW7YU"
      },
      "source": [
        "d.find interquartiles"
      ]
    },
    {
      "cell_type": "code",
      "execution_count": null,
      "metadata": {
        "colab": {
          "base_uri": "https://localhost:8080/"
        },
        "id": "LFgrR30tXLhB",
        "outputId": "6b14531a-0786-45f1-a54e-48d03048b0cd"
      },
      "outputs": [
        {
          "name": "stdout",
          "output_type": "stream",
          "text": [
            "count     15625.000000\n",
            "mean       2936.541056\n",
            "std       12890.630598\n",
            "min           1.000000\n",
            "25%           9.000000\n",
            "50%          83.000000\n",
            "75%         712.000000\n",
            "max      166014.000000\n",
            "Name: total_deaths, dtype: float64\n"
          ]
        }
      ],
      "source": [
        "print(data['total_deaths'].describe(percentiles=[.25,.50,.75]))"
      ]
    },
    {
      "cell_type": "markdown",
      "metadata": {
        "id": "Fi74Qti5X3GH"
      },
      "source": [
        "e.Find which continent have highest human_value_development_index."
      ]
    },
    {
      "cell_type": "code",
      "execution_count": null,
      "metadata": {
        "colab": {
          "base_uri": "https://localhost:8080/"
        },
        "id": "EMltPKO_X-uN",
        "outputId": "de497779-1c14-4bba-f124-82625c0f4b8b"
      },
      "outputs": [
        {
          "name": "stdout",
          "output_type": "stream",
          "text": [
            "Oceania 0.939\n"
          ]
        }
      ],
      "source": [
        "df=data.groupby('continent')['human_development_index'].max()\n",
        "continent=df.idxmax()\n",
        "df1=df.max()\n",
        "print(continent,df1)"
      ]
    },
    {
      "cell_type": "markdown",
      "metadata": {
        "id": "_QhXRzcBcFxH"
      },
      "source": [
        "f.Find Which continent have minimum gdp_per_captia"
      ]
    },
    {
      "cell_type": "code",
      "execution_count": null,
      "metadata": {
        "colab": {
          "base_uri": "https://localhost:8080/"
        },
        "id": "W30K05vWZ0-V",
        "outputId": "bfa5cdad-6e66-430a-c609-f50b74ad097c"
      },
      "outputs": [
        {
          "name": "stdout",
          "output_type": "stream",
          "text": [
            "Africa 661.24\n"
          ]
        }
      ],
      "source": [
        "df2=data.groupby('continent')['gdp_per_capita'].min()\n",
        "continent1=df2.idxmin()\n",
        "mini=df2.min()\n",
        "print(continent1,mini)"
      ]
    },
    {
      "cell_type": "markdown",
      "metadata": {
        "id": "LJmXAY44cLSu"
      },
      "source": [
        "4.Filtering"
      ]
    },
    {
      "cell_type": "code",
      "execution_count": null,
      "metadata": {
        "colab": {
          "base_uri": "https://localhost:8080/"
        },
        "id": "IWktq8nncPZG",
        "outputId": "4a68dec9-b077-4673-96ae-8b5f0232ee2e"
      },
      "outputs": [
        {
          "name": "stdout",
          "output_type": "stream",
          "text": [
            "      continent     location        date  total_cases  total_deaths  \\\n",
            "0          Asia  Afghanistan  31-12-2019          NaN           NaN   \n",
            "1          Asia  Afghanistan  01-01-2020          NaN           NaN   \n",
            "2          Asia  Afghanistan  02-01-2020          NaN           NaN   \n",
            "3          Asia  Afghanistan  03-01-2020          NaN           NaN   \n",
            "4          Asia  Afghanistan  04-01-2020          NaN           NaN   \n",
            "...         ...          ...         ...          ...           ...   \n",
            "20278    Africa        Ghana  11-10-2020      47005.0         306.0   \n",
            "20279    Africa        Ghana  12-10-2020      47005.0         306.0   \n",
            "20280    Africa        Ghana  13-10-2020      47030.0         308.0   \n",
            "20281    Africa        Ghana  14-10-2020      47126.0         310.0   \n",
            "20282    Africa        Ghana  15-10-2020      47126.0         310.0   \n",
            "\n",
            "       gdp_per_capita  human_development_index  \n",
            "0            1803.987                    0.498  \n",
            "1            1803.987                    0.498  \n",
            "2            1803.987                    0.498  \n",
            "3            1803.987                    0.498  \n",
            "4            1803.987                    0.498  \n",
            "...               ...                      ...  \n",
            "20278        4227.630                    0.592  \n",
            "20279        4227.630                    0.592  \n",
            "20280        4227.630                    0.592  \n",
            "20281        4227.630                    0.592  \n",
            "20282        4227.630                      NaN  \n",
            "\n",
            "[20283 rows x 7 columns]\n"
          ]
        }
      ],
      "source": [
        "tokeep=['continent','location','date','total_cases','total_deaths','gdp_per_capita','human_development_index']\n",
        "df=data[tokeep]\n",
        "print(df)"
      ]
    },
    {
      "cell_type": "markdown",
      "metadata": {
        "id": "ekXgIkFFfQ07"
      },
      "source": [
        "5.Data Cleaning."
      ]
    },
    {
      "cell_type": "code",
      "execution_count": null,
      "metadata": {
        "id": "P6e7YlmRfL1M"
      },
      "outputs": [],
      "source": [
        "df_cleaned=df.drop_duplicates()\n",
        "df_3=df_cleaned.isna().sum()\n",
        "df_cleaned = df_cleaned.dropna(subset=['continent'])\n"
      ]
    },
    {
      "cell_type": "code",
      "execution_count": null,
      "metadata": {
        "colab": {
          "base_uri": "https://localhost:8080/"
        },
        "id": "qSbCIF0rjAp0",
        "outputId": "20e7e915-2789-4e76-98d7-1188f458bd5d"
      },
      "outputs": [
        {
          "name": "stdout",
          "output_type": "stream",
          "text": [
            "      continent     location        date  total_cases  total_deaths  \\\n",
            "0          Asia  Afghanistan  31-12-2019          0.0           0.0   \n",
            "1          Asia  Afghanistan  01-01-2020          0.0           0.0   \n",
            "2          Asia  Afghanistan  02-01-2020          0.0           0.0   \n",
            "3          Asia  Afghanistan  03-01-2020          0.0           0.0   \n",
            "4          Asia  Afghanistan  04-01-2020          0.0           0.0   \n",
            "...         ...          ...         ...          ...           ...   \n",
            "20278    Africa        Ghana  11-10-2020      47005.0         306.0   \n",
            "20279    Africa        Ghana  12-10-2020      47005.0         306.0   \n",
            "20280    Africa        Ghana  13-10-2020      47030.0         308.0   \n",
            "20281    Africa        Ghana  14-10-2020      47126.0         310.0   \n",
            "20282    Africa        Ghana  15-10-2020      47126.0         310.0   \n",
            "\n",
            "       gdp_per_capita  human_development_index  \n",
            "0            1803.987                    0.498  \n",
            "1            1803.987                    0.498  \n",
            "2            1803.987                    0.498  \n",
            "3            1803.987                    0.498  \n",
            "4            1803.987                    0.498  \n",
            "...               ...                      ...  \n",
            "20278        4227.630                    0.592  \n",
            "20279        4227.630                    0.592  \n",
            "20280        4227.630                    0.592  \n",
            "20281        4227.630                    0.592  \n",
            "20282        4227.630                    0.000  \n",
            "\n",
            "[20283 rows x 7 columns]\n"
          ]
        }
      ],
      "source": [
        "df_cleaned=df_cleaned.fillna(0)\n",
        "print(df_cleaned)"
      ]
    },
    {
      "cell_type": "markdown",
      "metadata": {
        "id": "hULZBz7JjhIj"
      },
      "source": [
        "6.a.date time format"
      ]
    },
    {
      "cell_type": "code",
      "execution_count": null,
      "metadata": {
        "colab": {
          "base_uri": "https://localhost:8080/"
        },
        "id": "qZAEm3kWjnqJ",
        "outputId": "959a61e8-9ba0-48ee-d016-c0341597c5e0"
      },
      "outputs": [
        {
          "name": "stdout",
          "output_type": "stream",
          "text": [
            "0       2019-12-31\n",
            "1       2020-01-01\n",
            "2       2020-01-02\n",
            "3       2020-01-03\n",
            "4       2020-01-04\n",
            "           ...    \n",
            "20278   2020-10-11\n",
            "20279   2020-10-12\n",
            "20280   2020-10-13\n",
            "20281   2020-10-14\n",
            "20282   2020-10-15\n",
            "Name: date, Length: 20283, dtype: datetime64[ns]\n"
          ]
        },
        {
          "name": "stderr",
          "output_type": "stream",
          "text": [
            "<ipython-input-19-3aa3f2ac1bfa>:1: UserWarning: Parsing dates in %d-%m-%Y format when dayfirst=False (the default) was specified. Pass `dayfirst=True` or specify a format to silence this warning.\n",
            "  df_cleaned['date'] = pd.to_datetime(df_cleaned['date'], errors='coerce')\n"
          ]
        }
      ],
      "source": [
        "df_cleaned['date'] = pd.to_datetime(df_cleaned['date'], errors='coerce')\n",
        "print(df_cleaned['date'])"
      ]
    },
    {
      "cell_type": "markdown",
      "metadata": {
        "id": "IgVW2LwsexZT"
      },
      "source": [
        "b.Extract month from date column"
      ]
    },
    {
      "cell_type": "code",
      "execution_count": null,
      "metadata": {
        "colab": {
          "base_uri": "https://localhost:8080/"
        },
        "id": "kzZktoYre6fm",
        "outputId": "3d47c531-a9fc-41c4-e2be-690e78811bbc"
      },
      "outputs": [
        {
          "name": "stdout",
          "output_type": "stream",
          "text": [
            "New Extracted Month Column 0        12\n",
            "1         1\n",
            "2         1\n",
            "3         1\n",
            "4         1\n",
            "         ..\n",
            "20278    10\n",
            "20279    10\n",
            "20280    10\n",
            "20281    10\n",
            "20282    10\n",
            "Name: month, Length: 20283, dtype: int32\n"
          ]
        }
      ],
      "source": [
        "df_cleaned['month']=df_cleaned['date'].dt.month\n",
        "print(\"New Extracted Month Column\",df_cleaned['month'])"
      ]
    },
    {
      "cell_type": "markdown",
      "metadata": {
        "id": "GNv8VszEgrWR"
      },
      "source": [
        "7.a Data Aggregation - Find maximum values in every columns grouped by continent"
      ]
    },
    {
      "cell_type": "code",
      "execution_count": null,
      "metadata": {
        "colab": {
          "base_uri": "https://localhost:8080/"
        },
        "id": "ku-UnsaCg0XH",
        "outputId": "a881074d-51db-4d89-d6af-f22f4b08db6b"
      },
      "outputs": [
        {
          "name": "stdout",
          "output_type": "stream",
          "text": [
            "       continent          location       date  total_cases  total_deaths  \\\n",
            "0         Africa             Ghana 2020-11-17     111009.0        6465.0   \n",
            "1           Asia           Georgia 2020-11-17     434472.0        6215.0   \n",
            "2         Europe           Germany 2020-11-17    1991233.0       45054.0   \n",
            "3  North America       El Salvador 2020-11-17     302192.0       11027.0   \n",
            "4        Oceania  French Polynesia 2020-11-17      27750.0         907.0   \n",
            "5  South America  Falkland Islands 2020-11-17    5876464.0      166014.0   \n",
            "\n",
            "   gdp_per_capita  human_development_index  month  \n",
            "0       22604.873                    0.754     12  \n",
            "1       71809.251                    0.853     12  \n",
            "2       46682.515                    0.936     12  \n",
            "3       50669.315                    0.926     12  \n",
            "4       44648.710                    0.939     12  \n",
            "5       22767.037                    0.843     12  \n"
          ]
        }
      ],
      "source": [
        "df_groupby=df_cleaned.groupby('continent').max()\n",
        "print(df_groupby.reset_index())\n"
      ]
    },
    {
      "cell_type": "markdown",
      "metadata": {
        "id": "PmcYwMa6iqyC"
      },
      "source": [
        "8.Feature Engineering"
      ]
    },
    {
      "cell_type": "code",
      "execution_count": null,
      "metadata": {
        "colab": {
          "base_uri": "https://localhost:8080/"
        },
        "id": "oGgWZ7SKiuA7",
        "outputId": "d90cfe03-2589-4e32-a5ce-213f411ff8ce"
      },
      "outputs": [
        {
          "name": "stdout",
          "output_type": "stream",
          "text": [
            "continent\n",
            "Africa           0.058239\n",
            "Asia             0.014305\n",
            "Europe           0.022626\n",
            "North America    0.036490\n",
            "Oceania          0.032685\n",
            "South America    0.028251\n",
            "Name: totaldeaths_totalcases, dtype: float64\n"
          ]
        }
      ],
      "source": [
        "df_groupby['totaldeaths_totalcases']=df_groupby['total_deaths']/df_groupby['total_cases']\n",
        "print(df_groupby['totaldeaths_totalcases'])"
      ]
    },
    {
      "cell_type": "markdown",
      "metadata": {
        "id": "coCAJi1zja5E"
      },
      "source": [
        "9.Data Visualization"
      ]
    },
    {
      "cell_type": "code",
      "execution_count": null,
      "metadata": {
        "colab": {
          "base_uri": "https://localhost:8080/",
          "height": 472
        },
        "id": "Gw5eous4jnKE",
        "outputId": "61479180-41e3-4f74-fd44-298f937d6be1"
      },
      "outputs": [
        {
          "output_type": "display_data",
          "data": {
            "text/plain": [
              "<Figure size 640x480 with 1 Axes>"
            ],
            "image/png": "[encoded data removed]"
          },
          "metadata": {}
        }
      ],
      "source": [
        "import seaborn as sns\n",
        "import matplotlib.pyplot as plt\n",
        "df = pd.DataFrame({\n",
        "    'gdp_per_capita': [30000, 15000, 20000, 40000, 25000, 30000, 12000]\n",
        "})\n",
        "sns.histplot(df['gdp_per_capita'], kde=True)  # `distplot` is deprecated; use `histplot` instead\n",
        "plt.title('Histogram of GDP per Capita')\n",
        "plt.xlabel('GDP per Capita')\n",
        "plt.ylabel('Frequency')\n",
        "plt.show()\n"
      ]
    },
    {
      "cell_type": "code",
      "source": [
        "import seaborn as sns\n",
        "import matplotlib.pyplot as ply\n",
        "sns.scatterplot(x=df_groupby['total_cases'], y=df_groupby['gdp_per_capita'], data=df_groupby)\n",
        "plt.title('Scatter Plot of Total Cases vs. GDP per Capita')\n",
        "plt.xlabel('Total Cases')\n",
        "plt.ylabel('GDP per Capita')\n",
        "plt.show()\n"
      ],
      "metadata": {
        "colab": {
          "base_uri": "https://localhost:8080/",
          "height": 472
        },
        "id": "1cO02kOjn39P",
        "outputId": "5191525d-7e53-46e2-bc94-b84a5a9ed62e"
      },
      "execution_count": null,
      "outputs": [
        {
          "output_type": "display_data",
          "data": {
            "text/plain": [
              "<Figure size 640x480 with 1 Axes>"
            ],
            "image/png": "[encoded data removed]"
          },
          "metadata": {}
        }
      ]
    },
    {
      "cell_type": "code",
      "source": [
        "df_groupby = pd.DataFrame({\n",
        "    'continent': ['Africa', 'Asia', 'Europe'],\n",
        "    'value1': [60, 50, 40],\n",
        "    'value2': [55, 45, 35]\n",
        "})\n",
        "sns.pairplot(df_groupby, hue='continent')\n",
        "plt.show()"
      ],
      "metadata": {
        "colab": {
          "base_uri": "https://localhost:8080/",
          "height": 513
        },
        "id": "Ays2ASyrorlr",
        "outputId": "1d235bd7-ab1b-4c39-bd79-1c133bda34a0"
      },
      "execution_count": null,
      "outputs": [
        {
          "output_type": "display_data",
          "data": {
            "text/plain": [
              "<Figure size 598.875x500 with 6 Axes>"
            ],
            "image/png": "[encoded data removed]"
          },
          "metadata": {}
        }
      ]
    },
    {
      "cell_type": "code",
      "source": [
        "df = pd.DataFrame({\n",
        "    'continent': ['Africa', 'Asia', 'Europe'],\n",
        "    'total_cases': [1000, 2000, 1500]\n",
        "})\n",
        "sns.catplot(x='continent', y='total_cases', data=df, kind='bar')\n",
        "plt.title('Total Cases by Continent')\n",
        "plt.xlabel('Continent')\n",
        "plt.ylabel('Total Cases')\n",
        "plt.show()\n"
      ],
      "metadata": {
        "colab": {
          "base_uri": "https://localhost:8080/",
          "height": 529
        },
        "id": "8lRwyhGNs3em",
        "outputId": "3c8d9a72-5571-4840-93f0-432f3b73f24c"
      },
      "execution_count": null,
      "outputs": [
        {
          "output_type": "display_data",
          "data": {
            "text/plain": [
              "<Figure size 511.111x500 with 1 Axes>"
            ],
            "image/png": "[encoded data removed]"
          },
          "metadata": {}
        }
      ]
    },
    {
      "cell_type": "code",
      "source": [
        "df_groupby.to_csv('df_groupby.csv', index=False)"
      ],
      "metadata": {
        "id": "XmSmTJctt_Ak"
      },
      "execution_count": null,
      "outputs": []
    }
  ],
  "metadata": {
    "colab": {
      "provenance": [],
      "include_colab_link": true
    },
    "kernelspec": {
      "display_name": "Python 3",
      "name": "python3"
    },
    "language_info": {
      "name": "python"
    }
  },
  "nbformat": 4,
  "nbformat_minor": 0
}